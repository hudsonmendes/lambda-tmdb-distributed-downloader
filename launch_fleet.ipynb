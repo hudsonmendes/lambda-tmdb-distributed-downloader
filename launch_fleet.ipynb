{
 "cells": [
  {
   "cell_type": "markdown",
   "metadata": {},
   "source": [
    "# Launch TMDB Distributed Download Fleet\n",
    "\n",
    "```\n",
    "https://github.com/hudsonmendes/lambda-tmdb-distributed-downloader\n",
    "MENDES, Hudson\n",
    "14th May, 2020\n",
    "London, UK\n",
    "```"
   ]
  },
  {
   "cell_type": "markdown",
   "metadata": {},
   "source": [
    "## Summary\n",
    "\n",
    "The `lambda TMDB distributed downloader` is an **[AWS Lambda Function](https://aws.amazon.com/lambda/)** hooked to an **[AWS SQS Queue](https://aws.amazon.com/sqs/)**.\n",
    "\n",
    "In order to launch our download fleet, we must then send messages to **SQS** and let our lambda function find them and start the download process.\n",
    "\n",
    "This notebook reads the **[IMDB Titles Dataset]** in order to determine the download partitions (based in `year` and `initial` letter of the title), and sends messages for\n",
    "each of those partitions."
   ]
  },
  {
   "cell_type": "markdown",
   "metadata": {},
   "source": [
    "## Environment"
   ]
  },
  {
   "cell_type": "markdown",
   "metadata": {},
   "source": [
    "### Settings"
   ]
  },
  {
   "cell_type": "code",
   "execution_count": 1,
   "metadata": {
    "ExecuteTime": {
     "end_time": "2020-05-17T12:50:55.904674Z",
     "start_time": "2020-05-17T12:50:55.898601Z"
    }
   },
   "outputs": [],
   "source": [
    "lambda_name          = 'hudsonmendes-tmdb-downloader-lambda'\n",
    "queue_name           = 'hudsonmendes-tmdb-downloader-queue'\n",
    "datalake_bucket_name = 'hudsonmendes-datalake'"
   ]
  },
  {
   "cell_type": "markdown",
   "metadata": {},
   "source": [
    "### Dependencies"
   ]
  },
  {
   "cell_type": "code",
   "execution_count": 2,
   "metadata": {
    "ExecuteTime": {
     "end_time": "2020-05-17T12:51:00.170353Z",
     "start_time": "2020-05-17T12:50:56.840978Z"
    }
   },
   "outputs": [
    {
     "name": "stdout",
     "output_type": "stream",
     "text": [
      "Requirement already up-to-date: pandas in /Users/hudsonmendes/.pyenv/versions/3.6.10/lib/python3.6/site-packages (1.0.3)\n",
      "Requirement already satisfied, skipping upgrade: python-dateutil>=2.6.1 in /Users/hudsonmendes/.pyenv/versions/3.6.10/lib/python3.6/site-packages (from pandas) (2.8.1)\n",
      "Requirement already satisfied, skipping upgrade: numpy>=1.13.3 in /Users/hudsonmendes/.pyenv/versions/3.6.10/lib/python3.6/site-packages (from pandas) (1.18.2)\n",
      "Requirement already satisfied, skipping upgrade: pytz>=2017.2 in /Users/hudsonmendes/.pyenv/versions/3.6.10/lib/python3.6/site-packages (from pandas) (2019.3)\n",
      "Requirement already satisfied, skipping upgrade: six>=1.5 in /Users/hudsonmendes/.pyenv/versions/3.6.10/lib/python3.6/site-packages (from python-dateutil>=2.6.1->pandas) (1.14.0)\n",
      "Requirement already satisfied: boto3==1.13.5 in /Users/hudsonmendes/.pyenv/versions/3.6.10/lib/python3.6/site-packages (from -r requirements.txt (line 1)) (1.13.5)\n",
      "Requirement already satisfied: Unidecode===1.1.1 in /Users/hudsonmendes/.pyenv/versions/3.6.10/lib/python3.6/site-packages (from -r requirements.txt (line 2)) (1.1.1)\n",
      "Requirement already satisfied: click==7.1.2 in /Users/hudsonmendes/.pyenv/versions/3.6.10/lib/python3.6/site-packages (from -r requirements.txt (line 3)) (7.1.2)\n",
      "Requirement already satisfied: s3transfer<0.4.0,>=0.3.0 in /Users/hudsonmendes/.pyenv/versions/3.6.10/lib/python3.6/site-packages (from boto3==1.13.5->-r requirements.txt (line 1)) (0.3.3)\n",
      "Requirement already satisfied: botocore<1.17.0,>=1.16.5 in /Users/hudsonmendes/.pyenv/versions/3.6.10/lib/python3.6/site-packages (from boto3==1.13.5->-r requirements.txt (line 1)) (1.16.6)\n",
      "Requirement already satisfied: jmespath<1.0.0,>=0.7.1 in /Users/hudsonmendes/.pyenv/versions/3.6.10/lib/python3.6/site-packages (from boto3==1.13.5->-r requirements.txt (line 1)) (0.9.5)\n",
      "Requirement already satisfied: urllib3<1.26,>=1.20; python_version != \"3.4\" in /Users/hudsonmendes/.pyenv/versions/3.6.10/lib/python3.6/site-packages (from botocore<1.17.0,>=1.16.5->boto3==1.13.5->-r requirements.txt (line 1)) (1.25.8)\n",
      "Requirement already satisfied: docutils<0.16,>=0.10 in /Users/hudsonmendes/.pyenv/versions/3.6.10/lib/python3.6/site-packages (from botocore<1.17.0,>=1.16.5->boto3==1.13.5->-r requirements.txt (line 1)) (0.15.2)\n",
      "Requirement already satisfied: python-dateutil<3.0.0,>=2.1 in /Users/hudsonmendes/.pyenv/versions/3.6.10/lib/python3.6/site-packages (from botocore<1.17.0,>=1.16.5->boto3==1.13.5->-r requirements.txt (line 1)) (2.8.1)\n",
      "Requirement already satisfied: six>=1.5 in /Users/hudsonmendes/.pyenv/versions/3.6.10/lib/python3.6/site-packages (from python-dateutil<3.0.0,>=2.1->botocore<1.17.0,>=1.16.5->boto3==1.13.5->-r requirements.txt (line 1)) (1.14.0)\n"
     ]
    }
   ],
   "source": [
    "%%bash\n",
    "pip install -U pandas\n",
    "pip install -r requirements.txt"
   ]
  },
  {
   "cell_type": "markdown",
   "metadata": {},
   "source": [
    "### `tdd` deployment\n",
    "\n",
    "We first must deploy/prepare our AWS infra-structure, and we do so by using our `cli`"
   ]
  },
  {
   "cell_type": "code",
   "execution_count": 3,
   "metadata": {
    "ExecuteTime": {
     "end_time": "2020-05-17T12:51:20.761559Z",
     "start_time": "2020-05-17T12:51:00.174263Z"
    }
   },
   "outputs": [
    {
     "name": "stdout",
     "output_type": "stream",
     "text": [
      "Deploy, cleaning up environment\n",
      "Deploy, saving dependencies locally\n",
      "\u001b[31mERROR: awscli 1.18.46 has requirement botocore==1.15.46, but you'll have botocore 1.16.11 which is incompatible.\u001b[0m\n",
      "Deploy, adding code to ZIP\n",
      "Deploy, ensure queue hudsonmendes-tmdb-downloader-queue\n",
      "Deploy, ensure lambda hudsonmendes-tmdb-downloader-lambda\n",
      "Deploy, link lambda hudsonmendes-tmdb-downloader-lambda to queue hudsonmendes-tmdb-downloader-queue\n",
      "Deploy, cleaning up environment\n"
     ]
    }
   ],
   "source": [
    "!python tdd deploy \\\n",
    "    --lambda_name $lambda_name \\\n",
    "    --queue_name $queue_name \\\n",
    "    --datalake_bucket_name $datalake_bucket_name"
   ]
  },
  {
   "cell_type": "markdown",
   "metadata": {},
   "source": [
    "### Imports"
   ]
  },
  {
   "cell_type": "code",
   "execution_count": 4,
   "metadata": {
    "ExecuteTime": {
     "end_time": "2020-05-17T12:51:21.957260Z",
     "start_time": "2020-05-17T12:51:20.774449Z"
    }
   },
   "outputs": [],
   "source": [
    "import os\n",
    "import boto3\n",
    "import json\n",
    "import pandas as pd\n",
    "from urllib.request import urlopen\n",
    "from tqdm.notebook import tqdm\n",
    "from tdd.pipeline import IMDbMovie"
   ]
  },
  {
   "cell_type": "markdown",
   "metadata": {},
   "source": [
    "### Storage"
   ]
  },
  {
   "cell_type": "code",
   "execution_count": 5,
   "metadata": {
    "ExecuteTime": {
     "end_time": "2020-05-17T12:51:21.969965Z",
     "start_time": "2020-05-17T12:51:21.962896Z"
    }
   },
   "outputs": [],
   "source": [
    "IMDB_MOVIES_URL  = 'https://datasets.imdbws.com/title.basics.tsv.gz'\n",
    "IMDB_MOVIES_PATH = '/tmp/title.basics.tsv.gz'"
   ]
  },
  {
   "cell_type": "code",
   "execution_count": 6,
   "metadata": {
    "ExecuteTime": {
     "end_time": "2020-05-17T12:51:21.989146Z",
     "start_time": "2020-05-17T12:51:21.974479Z"
    }
   },
   "outputs": [
    {
     "data": {
      "text/plain": [
       "'/tmp/title.basics.tsv.gz'"
      ]
     },
     "execution_count": 6,
     "metadata": {},
     "output_type": "execute_result"
    }
   ],
   "source": [
    "if not os.path.isfile(IMDB_MOVIES_PATH):\n",
    "    with urlopen(IMDB_MOVIES_URL) as res:\n",
    "        with open(IMDB_MOVIES_PATH, 'wb+') as out_file:\n",
    "            out_file.write(res.read())\n",
    "IMDB_MOVIES_PATH"
   ]
  },
  {
   "cell_type": "markdown",
   "metadata": {},
   "source": [
    "### AWS SQS"
   ]
  },
  {
   "cell_type": "code",
   "execution_count": 7,
   "metadata": {
    "ExecuteTime": {
     "end_time": "2020-05-17T12:51:22.174266Z",
     "start_time": "2020-05-17T12:51:21.991951Z"
    }
   },
   "outputs": [],
   "source": [
    "sqs = boto3.resource('sqs')\n",
    "queue = sqs.get_queue_by_name(QueueName=queue_name)"
   ]
  },
  {
   "cell_type": "markdown",
   "metadata": {},
   "source": [
    "## Data"
   ]
  },
  {
   "cell_type": "markdown",
   "metadata": {},
   "source": [
    "### IMDB, Titles"
   ]
  },
  {
   "cell_type": "code",
   "execution_count": 8,
   "metadata": {
    "ExecuteTime": {
     "end_time": "2020-05-17T12:51:40.278251Z",
     "start_time": "2020-05-17T12:51:22.177334Z"
    }
   },
   "outputs": [
    {
     "name": "stderr",
     "output_type": "stream",
     "text": [
      "/Users/hudsonmendes/.pyenv/versions/3.6.10/lib/python3.6/site-packages/IPython/core/interactiveshell.py:3063: DtypeWarning: Columns (5) have mixed types.Specify dtype option on import or set low_memory=False.\n",
      "  interactivity=interactivity, compiler=compiler, result=result)\n"
     ]
    }
   ],
   "source": [
    "df = pd.read_csv(IMDB_MOVIES_PATH, delimiter='\\t', header=0)"
   ]
  },
  {
   "cell_type": "code",
   "execution_count": 9,
   "metadata": {
    "ExecuteTime": {
     "end_time": "2020-05-17T12:52:20.917049Z",
     "start_time": "2020-05-17T12:51:40.283815Z"
    }
   },
   "outputs": [],
   "source": [
    "df['initial'] = df['primaryTitle'].map(IMDbMovie.get_initial_from)"
   ]
  },
  {
   "cell_type": "code",
   "execution_count": 10,
   "metadata": {
    "ExecuteTime": {
     "end_time": "2020-05-17T12:52:25.178723Z",
     "start_time": "2020-05-17T12:52:20.920704Z"
    }
   },
   "outputs": [],
   "source": [
    "df['year'] = df['startYear'].map(IMDbMovie.get_year_from)"
   ]
  },
  {
   "cell_type": "markdown",
   "metadata": {},
   "source": [
    "### Fleet Partitions"
   ]
  },
  {
   "cell_type": "code",
   "execution_count": 11,
   "metadata": {
    "ExecuteTime": {
     "end_time": "2020-05-17T12:52:25.632427Z",
     "start_time": "2020-05-17T12:52:25.181604Z"
    }
   },
   "outputs": [
    {
     "data": {
      "application/vnd.jupyter.widget-view+json": {
       "model_id": "9f33a6f774564eb98500ef999a3b7bd3",
       "version_major": 2,
       "version_minor": 0
      },
      "text/plain": [
       "HBox(children=(FloatProgress(value=0.0, max=1285.0), HTML(value='')))"
      ]
     },
     "metadata": {},
     "output_type": "display_data"
    },
    {
     "name": "stdout",
     "output_type": "stream",
     "text": [
      "\n"
     ]
    },
    {
     "data": {
      "text/html": [
       "<div>\n",
       "<style scoped>\n",
       "    .dataframe tbody tr th:only-of-type {\n",
       "        vertical-align: middle;\n",
       "    }\n",
       "\n",
       "    .dataframe tbody tr th {\n",
       "        vertical-align: top;\n",
       "    }\n",
       "\n",
       "    .dataframe thead th {\n",
       "        text-align: right;\n",
       "    }\n",
       "</style>\n",
       "<table border=\"1\" class=\"dataframe\">\n",
       "  <thead>\n",
       "    <tr style=\"text-align: right;\">\n",
       "      <th></th>\n",
       "      <th>0</th>\n",
       "    </tr>\n",
       "  </thead>\n",
       "  <tbody>\n",
       "    <tr>\n",
       "      <th>0</th>\n",
       "      <td>00</td>\n",
       "    </tr>\n",
       "    <tr>\n",
       "      <th>1</th>\n",
       "      <td>01</td>\n",
       "    </tr>\n",
       "    <tr>\n",
       "      <th>2</th>\n",
       "      <td>02</td>\n",
       "    </tr>\n",
       "    <tr>\n",
       "      <th>3</th>\n",
       "      <td>03</td>\n",
       "    </tr>\n",
       "    <tr>\n",
       "      <th>4</th>\n",
       "      <td>04</td>\n",
       "    </tr>\n",
       "    <tr>\n",
       "      <th>...</th>\n",
       "      <td>...</td>\n",
       "    </tr>\n",
       "    <tr>\n",
       "      <th>1243</th>\n",
       "      <td>ZX</td>\n",
       "    </tr>\n",
       "    <tr>\n",
       "      <th>1244</th>\n",
       "      <td>ZY</td>\n",
       "    </tr>\n",
       "    <tr>\n",
       "      <th>1245</th>\n",
       "      <td>ZZ</td>\n",
       "    </tr>\n",
       "    <tr>\n",
       "      <th>1246</th>\n",
       "      <td>Z_</td>\n",
       "    </tr>\n",
       "    <tr>\n",
       "      <th>1247</th>\n",
       "      <td>__</td>\n",
       "    </tr>\n",
       "  </tbody>\n",
       "</table>\n",
       "<p>1248 rows × 1 columns</p>\n",
       "</div>"
      ],
      "text/plain": [
       "       0\n",
       "0     00\n",
       "1     01\n",
       "2     02\n",
       "3     03\n",
       "4     04\n",
       "...   ..\n",
       "1243  ZX\n",
       "1244  ZY\n",
       "1245  ZZ\n",
       "1246  Z_\n",
       "1247  __\n",
       "\n",
       "[1248 rows x 1 columns]"
      ]
     },
     "execution_count": 11,
     "metadata": {},
     "output_type": "execute_result"
    }
   ],
   "source": [
    "initials = set()\n",
    "for initial in tqdm(df.initial.unique()):\n",
    "    if initial and len(initial.strip()) == 2:\n",
    "        initials.add(initial)\n",
    "initials = sorted(list(initials))\n",
    "pd.DataFrame(initials)"
   ]
  },
  {
   "cell_type": "code",
   "execution_count": 12,
   "metadata": {
    "ExecuteTime": {
     "end_time": "2020-05-17T12:52:25.769804Z",
     "start_time": "2020-05-17T12:52:25.647756Z"
    }
   },
   "outputs": [
    {
     "data": {
      "application/vnd.jupyter.widget-view+json": {
       "model_id": "38f7c6b7bdd3487e9f425ac6a5b9dedb",
       "version_major": 2,
       "version_minor": 0
      },
      "text/plain": [
       "HBox(children=(FloatProgress(value=0.0, max=148.0), HTML(value='')))"
      ]
     },
     "metadata": {},
     "output_type": "display_data"
    },
    {
     "name": "stdout",
     "output_type": "stream",
     "text": [
      "\n"
     ]
    },
    {
     "data": {
      "text/html": [
       "<div>\n",
       "<style scoped>\n",
       "    .dataframe tbody tr th:only-of-type {\n",
       "        vertical-align: middle;\n",
       "    }\n",
       "\n",
       "    .dataframe tbody tr th {\n",
       "        vertical-align: top;\n",
       "    }\n",
       "\n",
       "    .dataframe thead th {\n",
       "        text-align: right;\n",
       "    }\n",
       "</style>\n",
       "<table border=\"1\" class=\"dataframe\">\n",
       "  <thead>\n",
       "    <tr style=\"text-align: right;\">\n",
       "      <th></th>\n",
       "      <th>0</th>\n",
       "    </tr>\n",
       "  </thead>\n",
       "  <tbody>\n",
       "    <tr>\n",
       "      <th>0</th>\n",
       "      <td>1874</td>\n",
       "    </tr>\n",
       "    <tr>\n",
       "      <th>1</th>\n",
       "      <td>1878</td>\n",
       "    </tr>\n",
       "    <tr>\n",
       "      <th>2</th>\n",
       "      <td>1881</td>\n",
       "    </tr>\n",
       "    <tr>\n",
       "      <th>3</th>\n",
       "      <td>1883</td>\n",
       "    </tr>\n",
       "    <tr>\n",
       "      <th>4</th>\n",
       "      <td>1885</td>\n",
       "    </tr>\n",
       "    <tr>\n",
       "      <th>...</th>\n",
       "      <td>...</td>\n",
       "    </tr>\n",
       "    <tr>\n",
       "      <th>142</th>\n",
       "      <td>2024</td>\n",
       "    </tr>\n",
       "    <tr>\n",
       "      <th>143</th>\n",
       "      <td>2025</td>\n",
       "    </tr>\n",
       "    <tr>\n",
       "      <th>144</th>\n",
       "      <td>2026</td>\n",
       "    </tr>\n",
       "    <tr>\n",
       "      <th>145</th>\n",
       "      <td>2027</td>\n",
       "    </tr>\n",
       "    <tr>\n",
       "      <th>146</th>\n",
       "      <td>2115</td>\n",
       "    </tr>\n",
       "  </tbody>\n",
       "</table>\n",
       "<p>147 rows × 1 columns</p>\n",
       "</div>"
      ],
      "text/plain": [
       "        0\n",
       "0    1874\n",
       "1    1878\n",
       "2    1881\n",
       "3    1883\n",
       "4    1885\n",
       "..    ...\n",
       "142  2024\n",
       "143  2025\n",
       "144  2026\n",
       "145  2027\n",
       "146  2115\n",
       "\n",
       "[147 rows x 1 columns]"
      ]
     },
     "execution_count": 12,
     "metadata": {},
     "output_type": "execute_result"
    }
   ],
   "source": [
    "import math\n",
    "years = set()\n",
    "for year in tqdm(df.year.unique()):\n",
    "    if year and not math.isnan(year):\n",
    "        years.add(int(year))\n",
    "years = sorted(list(years))\n",
    "pd.DataFrame(years)"
   ]
  },
  {
   "cell_type": "code",
   "execution_count": 16,
   "metadata": {
    "ExecuteTime": {
     "end_time": "2020-05-17T12:59:39.027995Z",
     "start_time": "2020-05-17T12:59:39.014043Z"
    }
   },
   "outputs": [],
   "source": [
    "partitions = zip(years, initials)"
   ]
  },
  {
   "cell_type": "code",
   "execution_count": 17,
   "metadata": {
    "ExecuteTime": {
     "end_time": "2020-05-17T12:59:39.206369Z",
     "start_time": "2020-05-17T12:59:39.193452Z"
    }
   },
   "outputs": [
    {
     "data": {
      "text/plain": [
       "<zip at 0x15aa317c8>"
      ]
     },
     "execution_count": 17,
     "metadata": {},
     "output_type": "execute_result"
    }
   ],
   "source": [
    "partitions"
   ]
  },
  {
   "cell_type": "markdown",
   "metadata": {},
   "source": [
    "## Launching"
   ]
  },
  {
   "cell_type": "markdown",
   "metadata": {},
   "source": [
    "### First Batch\n",
    "\n",
    "Here we schedule just a few messages, to see if everything is alright."
   ]
  },
  {
   "cell_type": "code",
   "execution_count": 18,
   "metadata": {
    "ExecuteTime": {
     "end_time": "2020-05-17T12:59:45.411032Z",
     "start_time": "2020-05-17T12:59:45.210480Z"
    }
   },
   "outputs": [
    {
     "name": "stdout",
     "output_type": "stream",
     "text": [
      "(1874, '00')\n",
      "(1878, '01')\n",
      "(1881, '02')\n"
     ]
    }
   ],
   "source": [
    "messages_max = 3\n",
    "messages_count = 0\n",
    "for year, initial in partitions:\n",
    "    print((year, initial))\n",
    "    message = { 'year': year, 'initial': initial }\n",
    "    body = json.dumps(message)\n",
    "    queue.send_message(MessageBody=body)\n",
    "    messages_count += 1\n",
    "    if messages_count >= messages_max:\n",
    "        break"
   ]
  },
  {
   "cell_type": "markdown",
   "metadata": {},
   "source": [
    "### Everything"
   ]
  },
  {
   "cell_type": "code",
   "execution_count": null,
   "metadata": {
    "ExecuteTime": {
     "end_time": "2020-05-17T12:22:34.033606Z",
     "start_time": "2020-05-17T12:22:29.676268Z"
    }
   },
   "outputs": [],
   "source": [
    "for year, initial in partitions:\n",
    "    print((year, initial))\n",
    "    message = { 'year': year, 'initial': initial }\n",
    "    body = json.dumps(message)\n",
    "    queue.send_message(MessageBody=body)"
   ]
  },
  {
   "cell_type": "code",
   "execution_count": null,
   "metadata": {},
   "outputs": [],
   "source": []
  }
 ],
 "metadata": {
  "kernelspec": {
   "display_name": "Python 3",
   "language": "python",
   "name": "python3"
  },
  "language_info": {
   "codemirror_mode": {
    "name": "ipython",
    "version": 3
   },
   "file_extension": ".py",
   "mimetype": "text/x-python",
   "name": "python",
   "nbconvert_exporter": "python",
   "pygments_lexer": "ipython3",
   "version": "3.6.10"
  },
  "toc": {
   "base_numbering": 1,
   "nav_menu": {},
   "number_sections": true,
   "sideBar": true,
   "skip_h1_title": false,
   "title_cell": "Table of Contents",
   "title_sidebar": "Contents",
   "toc_cell": false,
   "toc_position": {},
   "toc_section_display": true,
   "toc_window_display": false
  }
 },
 "nbformat": 4,
 "nbformat_minor": 2
}
