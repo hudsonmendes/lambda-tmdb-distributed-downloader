{
 "cells": [
  {
   "cell_type": "code",
   "execution_count": null,
   "metadata": {},
   "outputs": [],
   "source": [
    "IMDB_MOVIES_PATH = 'https://datasets.imdbws.com/title.basics.tsv.gz'"
   ]
  },
  {
   "cell_type": "code",
   "execution_count": null,
   "metadata": {},
   "outputs": [],
   "source": [
    "import boto3\n",
    "import json\n",
    "import imdb2tmdb\n",
    "import pandas as pd"
   ]
  },
  {
   "cell_type": "code",
   "execution_count": null,
   "metadata": {},
   "outputs": [],
   "source": [
    "sqs = boto3.resource('sqs')\n",
    "queue = sqs.get_queue_by_name(QueueName='hudsonmendes-imdb2tmdb-movies-download-queue')"
   ]
  },
  {
   "cell_type": "code",
   "execution_count": null,
   "metadata": {},
   "outputs": [],
   "source": [
    "df = pd.read_csv(IMDB_MOVIES_PATH, delimiter='\\t', header=0)\n",
    "df['initial'] = df['primaryTitle'].map(imdb2tmdb.imdb.get_initial_from)\n",
    "initials = sorted(set([ initial for initial in df['initial'] if initial ]))\n",
    "years = sorted(set([ year for year in df['startYear'] if year ]))"
   ]
  },
  {
   "cell_type": "code",
   "execution_count": null,
   "metadata": {},
   "outputs": [],
   "source": [
    "for year, initial in zip(years, initials):\n",
    "    print((year, initial))\n",
    "    message = { 'year': year, 'initial': initial }\n",
    "    body = json.dumps(message)\n",
    "    queue.send_message(MessageBody=body)"
   ]
  }
 ],
 "metadata": {
  "language_info": {
   "codemirror_mode": {
    "name": "ipython",
    "version": 3
   },
   "file_extension": ".py",
   "mimetype": "text/x-python",
   "name": "python",
   "nbconvert_exporter": "python",
   "pygments_lexer": "ipython3",
   "version": 3
  },
  "orig_nbformat": 2
 },
 "nbformat": 4,
 "nbformat_minor": 2
}